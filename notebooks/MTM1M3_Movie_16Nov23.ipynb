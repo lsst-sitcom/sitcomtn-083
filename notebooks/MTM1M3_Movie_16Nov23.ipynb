{
 "cells": [
  {
   "cell_type": "markdown",
   "metadata": {},
   "source": [
    "# M1M3 actuator movies\n",
    "Craig Lage - 20-Apr-23 \\\n",
    "The 17 tons of mirror are supported by 156 pneumatic actuators where 44 are single-axis and provide support only on the axial direction, 100 are dual-axis providing support in the axial and lateral direction, and 12 are dual-axis providing support in the axial and cross lateral directions. \\\n",
    "Positioning is provided by 6 hard points in a hexapod configuration which moves the mirror to a fixed operational position that shall be maintained during telescope operations. The remaining optical elements will be moved relative to this position in order to align the telescope optics. Support and optical figure correction is provided by 112 dual axis and 44 single axis pneumatic actuators. "
   ]
  },
  {
   "cell_type": "code",
   "execution_count": 1,
   "metadata": {
    "execution": {
     "iopub.execute_input": "2024-05-28T17:03:56.165002Z",
     "iopub.status.busy": "2024-05-28T17:03:56.164873Z",
     "iopub.status.idle": "2024-05-28T17:03:56.749663Z",
     "shell.execute_reply": "2024-05-28T17:03:56.749186Z",
     "shell.execute_reply.started": "2024-05-28T17:03:56.164989Z"
    },
    "tags": []
   },
   "outputs": [],
   "source": [
    "import sys, time, os, asyncio, glob\n",
    "import shlex, subprocess\n",
    "from datetime import datetime\n",
    "import numpy as np\n",
    "import matplotlib.pyplot as plt\n",
    "from matplotlib.colors import LightSource\n",
    "from astropy.time import Time, TimeDelta\n",
    "from lsst.ts.xml.tables.m1m3 import FATable, FAIndex, force_actuator_from_id, actuator_id_to_index\n",
    "from lsst_efd_client import EfdClient\n"
   ]
  },
  {
   "cell_type": "markdown",
   "metadata": {},
   "source": [
    "## Set up the necessary subroutines"
   ]
  },
  {
   "cell_type": "code",
   "execution_count": 3,
   "metadata": {
    "execution": {
     "iopub.execute_input": "2024-05-28T17:04:03.102213Z",
     "iopub.status.busy": "2024-05-28T17:04:03.101838Z",
     "iopub.status.idle": "2024-05-28T17:04:03.187740Z",
     "shell.execute_reply": "2024-05-28T17:04:03.187284Z",
     "shell.execute_reply.started": "2024-05-28T17:04:03.102199Z"
    },
    "tags": []
   },
   "outputs": [],
   "source": [
    "def actuatorLayout(ax, FATable):\n",
    "    ax.set_xlabel(\"X position (m)\")\n",
    "    ax.set_ylabel(\"Y position (m)\")\n",
    "    ax.set_title(\"M1M3 Actuator positions and type\\nHardpoints are approximate\", fontsize=18)\n",
    "    types = [['SAA','NA', 'o', 'Z', 'b'], ['DAA','Y_PLUS', '^', 'Y_PLUS','g'], ['DAA','Y_MINUS', 'v', 'Y_MINUS', 'cyan'], \\\n",
    "             ['DAA','X_PLUS', '>', 'X_PLUS', 'r'], ['DAA','X_MINUS', '<', 'X_MINUS', 'r']]\n",
    "    for [type, orient, marker, label, color] in types:\n",
    "        xs = []\n",
    "        ys = []\n",
    "        for i in range(len(FATable)):\n",
    "            x = FATable[i].x_position\n",
    "            y = FATable[i].y_position\n",
    "            if FATable[i].actuator_type.name == type and FATable[i].orientation.name == orient:\n",
    "                xs.append(x)\n",
    "                ys.append(y)\n",
    "            else:\n",
    "                continue\n",
    "        ax.scatter(xs, ys, marker=marker, color=color, s=200, label=label)\n",
    "\n",
    "    # Now plot approximate hardpoint location\n",
    "    Rhp = 3.1 # Radius in meters\n",
    "    for i in range(6):\n",
    "        theta = 2.0 * np.pi / 6.0 * float(i)\n",
    "        if i == 0:\n",
    "            ax.scatter(Rhp * np.cos(theta), Rhp * np.sin(theta), marker='o', color='magenta', \\\n",
    "                       s=200, label='HP')\n",
    "        else:\n",
    "            ax.scatter(Rhp * np.cos(theta), Rhp * np.sin(theta), marker='o', color='magenta', \\\n",
    "                       s=200, label='_nolegend_')\n",
    "    ax.legend(loc='lower left', fontsize=9)\n",
    "    \n",
    "    \n",
    "def barChartZ(df, df_zero, ax, FATable, index, zmin, zmax):\n",
    "    ax.set_xlabel(\"X position (m)\")\n",
    "    ax.set_ylabel(\"Y position (m)\")\n",
    "    ax.set_zlabel(\"Force (nt)\")\n",
    "    ax.set_title(\"M1M3 Actuator Z forces\", fontsize=18)\n",
    "\n",
    "    lightsource = LightSource(azdeg=180, altdeg=78)\n",
    "    greyColor = '0.9'\n",
    "    colors = []\n",
    "    xs = []\n",
    "    ys = []\n",
    "    for i in range(len(FATable)):\n",
    "        x = FATable[i].x_position\n",
    "        y = FATable[i].y_position\n",
    "        xs.append(x)\n",
    "        ys.append(y)\n",
    "        if FATable[i].actuator_type.name == 'SAA':\n",
    "            colors.append('blue'); colors.append('blue')\n",
    "            colors.append(greyColor); colors.append(greyColor)\n",
    "            colors.append(greyColor); colors.append(greyColor)\n",
    "        else:\n",
    "            if FATable[i].orientation.name in ['Y_PLUS', 'Y_MINUS']:\n",
    "                colors.append('green'); colors.append('green')\n",
    "                colors.append(greyColor); colors.append(greyColor)\n",
    "                colors.append(greyColor); colors.append(greyColor)\n",
    "            if FATable[i].orientation.name in ['X_PLUS', 'X_MINUS']:\n",
    "                colors.append('red'); colors.append('red')\n",
    "                colors.append(greyColor); colors.append(greyColor)\n",
    "                colors.append(greyColor); colors.append(greyColor)\n",
    "\n",
    "    zs = np.zeros([len(FATable)])\n",
    "    for i in range(len(FATable)):\n",
    "        name=f\"zForce{i}\"\n",
    "        zs[i] = df.iloc[index][name] - df_zero.iloc[0][name]\n",
    "\n",
    "    dxs = 0.2 * np.ones([len(FATable)])\n",
    "    dys = 0.2 * np.ones([len(FATable)])\n",
    "    bottom = np.zeros([len(FATable)])\n",
    "    ax.bar3d(xs, ys, bottom, dxs, dys, zs, shade=True, alpha=0.5, lightsource=lightsource, color=colors)\n",
    "    ax.set_zlim(zmin, zmax)\n",
    "    ax.view_init(elev=30., azim=225)\n",
    "    \n",
    "\n",
    "def heatMapZ(df, df_zero, ax, FATable, index, zmin, zmax):\n",
    "    ax.set_xlabel(\"X position (m)\")\n",
    "    ax.set_ylabel(\"Y position (m)\")\n",
    "    ax.set_title(\"M1M3 Actuator Z forces (nt)\", fontsize=18)\n",
    "\n",
    "    types = [['SAA','NA', 'o', 'Z'], ['DAA','Y_PLUS', '^', 'Y_PLUS'], ['DAA','Y_MINUS', 'v', 'Y_MINUS'], \\\n",
    "             ['DAA','X_PLUS', '>', 'X_PLUS'], ['DAA','X_MINUS', '<', 'X_MINUS']]\n",
    "\n",
    "    for [type, orient, marker, label] in types:\n",
    "        xs = []\n",
    "        ys = []\n",
    "        zs = []\n",
    "        for i in range(len(FATable)):\n",
    "            x = FATable[i].x_position\n",
    "            y = FATable[i].y_position\n",
    "            if FATable[i].actuator_type.name == type and FATable[i].orientation.name == orient:\n",
    "                xs.append(x)\n",
    "                ys.append(y)\n",
    "                name=f\"zForce{i}\"\n",
    "                zs.append(df.iloc[index][name] - df_zero.iloc[0][name])\n",
    "        im = ax.scatter(xs, ys, marker=marker, c=zs, cmap='RdBu_r', vmin=zmin, vmax=zmax, s=50, label=label)\n",
    "    plt.colorbar(im, ax=ax,fraction=0.055, pad=0.02, cmap='RdBu_r')  \n",
    "    \n",
    "    \n",
    "    \n",
    "def lateralForces(df, df_zero, ax, FATable, index, forceMax):\n",
    "    ax.set_xlabel(\"X position (m)\")\n",
    "    ax.set_ylabel(\"Y position (m)\")\n",
    "    ax.set_title(\"M1M3 lateral forces (nt)\", fontsize=18)\n",
    "    ax.set_xlim(-4.5,4.5)\n",
    "    ax.set_ylim(-4.5,4.5)\n",
    "    types = [['DAA','Y_PLUS', '^', 'Y_PLUS','g'], ['DAA','Y_MINUS', 'v', 'Y_MINUS', 'cyan'], \\\n",
    "             ['DAA','X_PLUS', '>', 'X_PLUS', 'r'], ['DAA','X_MINUS', '<', 'X_MINUS', 'r']]\n",
    "    for [type, orient, marker, label, color] in types:\n",
    "        xs = []\n",
    "        ys = []\n",
    "        arrowXs = []\n",
    "        arrowYs = []\n",
    "        for i in range(len(FATable)):\n",
    "            x = FATable[i].x_position\n",
    "            y = FATable[i].y_position\n",
    "            if FATable[i].actuator_type.name == type and FATable[i].orientation.name == orient:\n",
    "                xs.append(x)\n",
    "                ys.append(y)\n",
    "                if orient == 'X_PLUS':\n",
    "                    name = f\"xForce{FATable[i].x_index}\"\n",
    "                    arrowXs.append(df.iloc[index][name] / forceMax)\n",
    "                    arrowYs.append(0.0)\n",
    "                if orient == 'X_MINUS':\n",
    "                    name = f\"xForce{FATable[i].x_index}\"\n",
    "                    arrowXs.append(-df.iloc[index][name] / forceMax)\n",
    "                    arrowYs.append(0.0)\n",
    "                if orient == 'Y_PLUS':\n",
    "                    name = f\"yForce{FATable[i].y_index}\"\n",
    "                    arrowXs.append(0.0)\n",
    "                    arrowYs.append(df.iloc[index][name] / forceMax)\n",
    "                if orient == 'Y_MINUS':\n",
    "                    name = f\"yForce{FATable[i].y_index}\"\n",
    "                    arrowXs.append(0.0)\n",
    "                    arrowYs.append(-df.iloc[index][name] / forceMax)\n",
    "            else:\n",
    "                continue\n",
    "        ax.scatter(xs, ys, marker=marker, color=color, s=50, label=label)\n",
    "        for ii in range(len(xs)):\n",
    "            ax.arrow(xs[ii], ys[ii], arrowXs[ii], arrowYs[ii], color=color)\n",
    "\n",
    "    ax.plot([-4.0,-3.0], [-4.0,-4.0], color='g')\n",
    "    ax.text(-4.0, -4.3, f\"{forceMax} nt\")\n",
    "\n",
    "\n",
    "def getZeroValuesAndLimits(df, subtractBaseline, t0, t1):\n",
    "    # First define the zero values\n",
    "    df_zero = df.head(1)\n",
    "    for column_name in df_zero.columns:\n",
    "        try:\n",
    "            if subtractBaseline:\n",
    "                df_zero.iloc[0, df_zero.columns.get_loc(column_name)] = np.median(df[column_name].values[t0:t1])\n",
    "            else:\n",
    "                df_zero.iloc[0, df_zero.columns.get_loc(column_name)] = 0.0\n",
    "        except:\n",
    "            continue\n",
    "    # Now calculate the limits \n",
    "    types = [['SAA','NA'], ['DAA','Y_PLUS'], ['DAA','Y_MINUS'], ['DAA','X_PLUS'], ['DAA','X_MINUS']]\n",
    "    zmin = 0.0; ymin = 0.0; xmin = 0.0; zmax = 0.0; ymax = 0.0; xmax = 0.0\n",
    "    for [type, orient] in types:\n",
    "            for i in range(len(FATable)):\n",
    "                if type == 'SAA':\n",
    "                    name = f\"zForce{FATable[i].z_index}\"\n",
    "                    zmin = min(zmin, np.min(df[name] - df_zero.iloc[0][name]))                \n",
    "                    zmax = max(zmax, np.max(df[name] - df_zero.iloc[0][name]))\n",
    "                if orient in ['Y_PLUS', 'Y_MINUS']:\n",
    "                    index = FATable[i].y_index\n",
    "                    if index:\n",
    "                        name = f\"yForce{FATable[i].y_index}\"\n",
    "                        ymin = min(ymin, np.min(df[name] - df_zero.iloc[0][name]))                \n",
    "                        ymax = max(ymax, np.max(df[name] - df_zero.iloc[0][name]))\n",
    "                if orient in ['X_PLUS', 'X_MINUS']:\n",
    "                    index = FATable[i].x_index\n",
    "                    if index:\n",
    "                        name = f\"xForce{FATable[i].x_index}\"\n",
    "                        xmin = min(xmin, np.min(df[name] - df_zero.iloc[0][name]))                \n",
    "                        xmax = max(xmax, np.max(df[name] - df_zero.iloc[0][name]))\n",
    "\n",
    "    lateralMax = max(xmax, ymax, ymin, ymin)\n",
    "    return [round(zmin), round(zmax), round(lateralMax), df_zero]\n"
   ]
  },
  {
   "cell_type": "markdown",
   "metadata": {},
   "source": [
    "## Define the times and options"
   ]
  },
  {
   "cell_type": "code",
   "execution_count": 4,
   "metadata": {
    "execution": {
     "iopub.execute_input": "2024-05-28T17:04:06.726080Z",
     "iopub.status.busy": "2024-05-28T17:04:06.725430Z",
     "iopub.status.idle": "2024-05-28T17:04:06.729404Z",
     "shell.execute_reply": "2024-05-28T17:04:06.729027Z",
     "shell.execute_reply.started": "2024-05-28T17:04:06.726064Z"
    },
    "tags": []
   },
   "outputs": [],
   "source": [
    "# Times to start looking at encoder values\n",
    "start = Time(\"2023-11-16T06:15:00\", scale='utc')\n",
    "end = Time(\"2023-11-16T06:30:00\", scale='utc')\n",
    "\n",
    "autoScale = True\n",
    "# The following are only used if autoScale = False\n",
    "zmin = 0.0\n",
    "zmax = 2000.0\n",
    "lateralMax = 1500.0\n",
    "\n",
    "# The following average the first 100 data points\n",
    "# and subtract these from the measurements\n",
    "# If subtractBaseline = False, the unmodified values will be plotted\n",
    "subtractBaseline = True\n",
    "baselineT0 = 0.0\n",
    "baselineT1 = 100.0\n",
    "\n",
    "# The following allows you to plot only every nth data point\n",
    "# If this value is 1, a frame will be made for every data point\n",
    "# Of course, this takes longer\n",
    "# If this value is 50, it will make a frame every second\n",
    "frameN = 50"
   ]
  },
  {
   "cell_type": "markdown",
   "metadata": {},
   "source": [
    "## Now generate the frames\n",
    "### This will take some time"
   ]
  },
  {
   "cell_type": "code",
   "execution_count": 5,
   "metadata": {
    "execution": {
     "iopub.execute_input": "2024-05-28T17:04:12.865909Z",
     "iopub.status.busy": "2024-05-28T17:04:12.865717Z",
     "iopub.status.idle": "2024-05-28T17:16:41.196370Z",
     "shell.execute_reply": "2024-05-28T17:16:41.195936Z",
     "shell.execute_reply.started": "2024-05-28T17:04:12.865896Z"
    },
    "tags": []
   },
   "outputs": [
    {
     "name": "stdout",
     "output_type": "stream",
     "text": [
      "44784 1\n"
     ]
    },
    {
     "data": {
      "text/plain": [
       "<Figure size 1600x1600 with 0 Axes>"
      ]
     },
     "metadata": {},
     "output_type": "display_data"
    }
   ],
   "source": [
    "client = EfdClient('usdf_efd')\n",
    "timestamp = start.isot.split('.')[0].replace('-','').replace(':','')\n",
    "dirName = f\"/home/c/cslage/u/MTM1M3/movies/movie_{timestamp}\"\n",
    "%mkdir -p {dirName}\n",
    "    \n",
    "forces = await client.select_time_series(\"lsst.sal.MTM1M3.forceActuatorData\", \"*\", \\\n",
    "                                         start, end)\n",
    "[autoZmin, autoZmax, autoLateralMax, forces_zero] = \\\n",
    "    getZeroValuesAndLimits(forces, subtractBaseline, baselineT0, baselineT1)\n",
    "print(len(forces), len(forces_zero))\n",
    "if autoScale:\n",
    "    zmin = autoZmin\n",
    "    zmax = autoZmax\n",
    "    lateralMax = autoLateralMax\n",
    "\n",
    "# Build the individual frames\n",
    "fig = plt.figure(figsize=(16,16))\n",
    "for n in range(0, len(forces), frameN):\n",
    "    ax1 = fig.add_subplot(2,2,1)\n",
    "    actuatorLayout(ax1, FATable)\n",
    "    ax2 = fig.add_subplot(2,2,2, projection='3d')\n",
    "    barChartZ(forces, forces_zero, ax2, FATable, n, zmin, zmax)\n",
    "    ax3 = fig.add_subplot(2,2,3)\n",
    "    lateralForces(forces, forces_zero, ax3, FATable, n, lateralMax)\n",
    "    ax4 = fig.add_subplot(2,2,4)\n",
    "    heatMapZ(forces, forces_zero, ax4, FATable, n, zmin, zmax)\n",
    "    plt.savefig(f\"{dirName}/Frame_{n:05d}.png\")\n",
    "    plt.clf()"
   ]
  },
  {
   "cell_type": "markdown",
   "metadata": {},
   "source": [
    "## Now build the movie"
   ]
  },
  {
   "cell_type": "code",
   "execution_count": 33,
   "metadata": {
    "execution": {
     "iopub.execute_input": "2023-11-16T15:26:46.726468Z",
     "iopub.status.busy": "2023-11-16T15:26:46.726277Z",
     "iopub.status.idle": "2023-11-16T15:27:01.525012Z",
     "shell.execute_reply": "2023-11-16T15:27:01.524661Z",
     "shell.execute_reply.started": "2023-11-16T15:26:46.726451Z"
    },
    "tags": []
   },
   "outputs": [
    {
     "name": "stdout",
     "output_type": "stream",
     "text": [
      "\u001b[1mThe movie name will be: /home/c/cslage/u/MTM1M3/movies/movie_20231116T061500/m1m3_movie.mp4\u001b[0m\n"
     ]
    },
    {
     "name": "stderr",
     "output_type": "stream",
     "text": [
      "ffmpeg version 6.0 Copyright (c) 2000-2023 the FFmpeg developers\n",
      "  built with gcc 12.3.0 (conda-forge gcc 12.3.0-0)\n",
      "  configuration: --prefix=/home/conda/feedstock_root/build_artifacts/ffmpeg_1687154882217/_h_env_placehold_placehold_placehold_placehold_placehold_placehold_placehold_placehold_placehold_placehold_placehold_placehold_placehold_placehold_placehold_placehold_placehold_placehold_plac --cc=/home/conda/feedstock_root/build_artifacts/ffmpeg_1687154882217/_build_env/bin/x86_64-conda-linux-gnu-cc --cxx=/home/conda/feedstock_root/build_artifacts/ffmpeg_1687154882217/_build_env/bin/x86_64-conda-linux-gnu-c++ --nm=/home/conda/feedstock_root/build_artifacts/ffmpeg_1687154882217/_build_env/bin/x86_64-conda-linux-gnu-nm --ar=/home/conda/feedstock_root/build_artifacts/ffmpeg_1687154882217/_build_env/bin/x86_64-conda-linux-gnu-ar --disable-doc --disable-openssl --enable-demuxer=dash --enable-hardcoded-tables --enable-libfreetype --enable-libfontconfig --enable-libopenh264 --enable-libdav1d --enable-gnutls --enable-libmp3lame --enable-libvpx --enable-libass --enable-pthreads --enable-vaapi --enable-gpl --enable-libx264 --enable-libx265 --enable-libaom --enable-libsvtav1 --enable-libxml2 --enable-pic --enable-shared --disable-static --enable-version3 --enable-zlib --enable-libopus --pkg-config=/home/conda/feedstock_root/build_artifacts/ffmpeg_1687154882217/_build_env/bin/pkg-config\n",
      "  libavutil      58.  2.100 / 58.  2.100\n",
      "  libavcodec     60.  3.100 / 60.  3.100\n",
      "  libavformat    60.  3.100 / 60.  3.100\n",
      "  libavdevice    60.  1.100 / 60.  1.100\n",
      "  libavfilter     9.  3.100 /  9.  3.100\n",
      "  libswscale      7.  1.100 /  7.  1.100\n",
      "  libswresample   4. 10.100 /  4. 10.100\n",
      "  libpostproc    57.  1.100 / 57.  1.100\n",
      "Input #0, image2, from '/home/c/cslage/u/MTM1M3/movies/movie_20231116T061500/*.png':\n",
      "  Duration: 00:00:36.00, start: 0.000000, bitrate: N/A\n",
      "  Stream #0:0: Video: png, rgba(pc), 1600x1600 [SAR 3937:3937 DAR 1:1], 25 fps, 25 tbr, 25 tbn\n",
      "Stream mapping:\n",
      "  Stream #0:0 -> #0:0 (png (native) -> h264 (libx264))\n",
      "Press [q] to stop, [?] for help\n",
      "[libx264 @ 0x557d8f176fc0] using SAR=1/1\n",
      "[libx264 @ 0x557d8f176fc0] using cpu capabilities: MMX2 SSE2Fast SSSE3 SSE4.2 AVX FMA3 BMI2 AVX2\n",
      "[libx264 @ 0x557d8f176fc0] profile High, level 5.0, 4:2:0, 8-bit\n",
      "[libx264 @ 0x557d8f176fc0] 264 - core 164 r3095 baee400 - H.264/MPEG-4 AVC codec - Copyleft 2003-2022 - http://www.videolan.org/x264.html - options: cabac=1 ref=3 deblock=1:0:0 analyse=0x3:0x113 me=hex subme=7 psy=1 psy_rd=1.00:0.00 mixed_ref=1 me_range=16 chroma_me=1 trellis=1 8x8dct=1 cqm=0 deadzone=21,11 fast_pskip=1 chroma_qp_offset=-2 threads=50 lookahead_threads=8 sliced_threads=0 nr=0 decimate=1 interlaced=0 bluray_compat=0 constrained_intra=0 bframes=3 b_pyramid=2 b_adapt=1 b_bias=0 direct=1 weightb=1 open_gop=0 weightp=2 keyint=250 keyint_min=25 scenecut=40 intra_refresh=0 rc_lookahead=40 rc=crf mbtree=1 crf=23.0 qcomp=0.60 qpmin=0 qpmax=69 qpstep=4 ip_ratio=1.40 aq=1:1.00\n",
      "Output #0, mp4, to '/home/c/cslage/u/MTM1M3/movies/movie_20231116T061500/m1m3_movie.mp4':\n",
      "  Metadata:\n",
      "    encoder         : Lavf60.3.100\n",
      "  Stream #0:0: Video: h264 (avc1 / 0x31637661), yuv420p(tv, progressive), 1600x1600 [SAR 1:1 DAR 1:1], q=2-31, 25 fps, 12800 tbn\n",
      "    Metadata:\n",
      "      encoder         : Lavc60.3.100 libx264\n",
      "    Side data:\n",
      "      cpb: bitrate max/min/avg: 0/0/0 buffer size: 0 vbv_delay: N/A\n",
      "frame=  900 fps= 61 q=-1.0 Lsize=    2162kB time=00:00:35.88 bitrate= 493.6kbits/s speed=2.44x     \n",
      "video:2151kB audio:0kB subtitle:0kB other streams:0kB global headers:0kB muxing overhead: 0.517637%\n",
      "[libx264 @ 0x557d8f176fc0] frame I:4     Avg QP:15.22  size:147850\n",
      "[libx264 @ 0x557d8f176fc0] frame P:266   Avg QP:20.69  size:  4098\n",
      "[libx264 @ 0x557d8f176fc0] frame B:630   Avg QP:22.39  size:   826\n",
      "[libx264 @ 0x557d8f176fc0] consecutive B-frames:  5.6%  2.7%  2.0% 89.8%\n",
      "[libx264 @ 0x557d8f176fc0] mb I  I16..4: 28.0% 43.3% 28.7%\n",
      "[libx264 @ 0x557d8f176fc0] mb P  I16..4:  0.1%  0.1%  0.1%  P16..4:  2.3%  0.7%  0.6%  0.0%  0.0%    skip:96.1%\n",
      "[libx264 @ 0x557d8f176fc0] mb B  I16..4:  0.1%  0.2%  0.0%  B16..8:  2.6%  0.3%  0.1%  direct: 0.1%  skip:96.6%  L0:51.5% L1:46.6% BI: 1.9%\n",
      "[libx264 @ 0x557d8f176fc0] 8x8 transform intra:52.2% inter:23.8%\n",
      "[libx264 @ 0x557d8f176fc0] coded y,uvDC,uvAC intra: 12.0% 16.9% 15.4% inter: 0.4% 0.4% 0.2%\n",
      "[libx264 @ 0x557d8f176fc0] i16 v,h,dc,p: 79% 17%  4%  0%\n",
      "[libx264 @ 0x557d8f176fc0] i8 v,h,dc,ddl,ddr,vr,hd,vl,hu: 35%  3% 62%  0%  0%  0%  0%  0%  0%\n",
      "[libx264 @ 0x557d8f176fc0] i4 v,h,dc,ddl,ddr,vr,hd,vl,hu: 46% 17% 18%  2%  2%  4%  5%  3%  4%\n",
      "[libx264 @ 0x557d8f176fc0] i8c dc,h,v,p: 76%  9% 14%  1%\n",
      "[libx264 @ 0x557d8f176fc0] Weighted P-Frames: Y:0.0% UV:0.0%\n",
      "[libx264 @ 0x557d8f176fc0] ref P L0: 72.8%  3.7% 15.1%  8.5%\n",
      "[libx264 @ 0x557d8f176fc0] ref B L0: 66.1% 29.7%  4.2%\n",
      "[libx264 @ 0x557d8f176fc0] ref B L1: 91.7%  8.3%\n",
      "[libx264 @ 0x557d8f176fc0] kb/s:489.25\n"
     ]
    },
    {
     "data": {
      "text/plain": [
       "0"
      ]
     },
     "execution_count": 33,
     "metadata": {},
     "output_type": "execute_result"
    }
   ],
   "source": [
    "print(f\"\\033[1mThe movie name will be: {dirName}/m1m3_movie.mp4\\033[0m\")\n",
    "\n",
    "command = f\"ffmpeg -pattern_type glob -i '{dirName}/*.png' -f mp4 -vcodec libx264 -pix_fmt yuv420p -framerate 50 -y {dirName}/m1m3_movie.mp4\"\n",
    "args = shlex.split(command)\n",
    "build_movie = subprocess.Popen(args)\n",
    "build_movie.wait()"
   ]
  },
  {
   "cell_type": "code",
   "execution_count": null,
   "metadata": {},
   "outputs": [],
   "source": []
  }
 ],
 "metadata": {
  "kernelspec": {
   "display_name": "LSST",
   "language": "python",
   "name": "lsst"
  },
  "language_info": {
   "codemirror_mode": {
    "name": "ipython",
    "version": 3
   },
   "file_extension": ".py",
   "mimetype": "text/x-python",
   "name": "python",
   "nbconvert_exporter": "python",
   "pygments_lexer": "ipython3",
   "version": "3.11.7"
  }
 },
 "nbformat": 4,
 "nbformat_minor": 4
}
