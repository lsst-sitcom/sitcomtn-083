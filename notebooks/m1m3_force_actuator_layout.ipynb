{
 "cells": [
  {
   "cell_type": "markdown",
   "id": "597d115b-bb56-4da5-a692-baf560b441ff",
   "metadata": {},
   "source": [
    "# M1M3 Force Actuator and Hardpoints layout\n",
    "\n",
    "Just a smaller notebook to create the M1M3 Force Actuator and Hardpoints layout diagram without interfering with other notebooks. "
   ]
  },
  {
   "cell_type": "code",
   "execution_count": null,
   "id": "42cf4684-8a19-45a4-ba67-b17bf9dfb3bc",
   "metadata": {},
   "outputs": [],
   "source": [
    "%load_ext lab_black\n",
    "%load_ext autoreload\n",
    "%autoreload 2"
   ]
  },
  {
   "cell_type": "code",
   "execution_count": null,
   "id": "a32f7439-3503-4be7-9af2-a5b966894163",
   "metadata": {},
   "outputs": [],
   "source": [
    "import os\n",
    "import matplotlib.pyplot as plt\n",
    "\n",
    "from lsst.ts.xml.tables import m1m3 as m1m3_tables"
   ]
  },
  {
   "cell_type": "markdown",
   "id": "98993183-b352-4774-a9d3-6699438a3715",
   "metadata": {},
   "source": [
    "## force_actuators_layout"
   ]
  },
  {
   "cell_type": "code",
   "execution_count": null,
   "id": "5e0a172a-2111-4b96-81f6-652e6badece1",
   "metadata": {},
   "outputs": [],
   "source": [
    "def force_actuators_layout(ax, FATable):\n",
    "\n",
    "    ax.set_aspect(1)\n",
    "    ax.set_xlabel(\"X position (m)\")\n",
    "    ax.set_ylabel(\"Y position (m)\")\n",
    "\n",
    "    types = [\n",
    "        [\"SAA\", \"NA\", \"o\", \"Z\", \"b\"],\n",
    "        [\"DAA\", \"Y_PLUS\", \"^\", \"Y_PLUS\", \"g\"],\n",
    "        [\"DAA\", \"Y_MINUS\", \"v\", \"Y_MINUS\", \"cyan\"],\n",
    "        [\"DAA\", \"X_PLUS\", \">\", \"X_PLUS\", \"r\"],\n",
    "        [\"DAA\", \"X_MINUS\", \"<\", \"X_MINUS\", \"r\"],\n",
    "    ]\n",
    "    for [type, orient, marker, label, color] in types:\n",
    "        xs = []\n",
    "        ys = []\n",
    "        for i in range(len(FATable)):\n",
    "            x = FATable[i].x_position\n",
    "            y = FATable[i].y_position\n",
    "            if (\n",
    "                FATable[i].actuator_type.name == type\n",
    "                and FATable[i].orientation.name == orient\n",
    "            ):\n",
    "                xs.append(x)\n",
    "                ys.append(y)\n",
    "            else:\n",
    "                continue\n",
    "        ax.scatter(xs, ys, marker=marker, color=color, s=200, label=label)\n",
    "\n",
    "    # Now plot approximate hardpoint location\n",
    "    Rhp = 3.1  # Radius in meters\n",
    "    for i in range(6):\n",
    "        theta = 2.0 * np.pi / 6.0 * float(i)\n",
    "        if i == 0:\n",
    "            ax.scatter(\n",
    "                Rhp * np.cos(theta),\n",
    "                Rhp * np.sin(theta),\n",
    "                marker=\"s\",\n",
    "                color=\"magenta\",\n",
    "                s=200,\n",
    "                label=\"HP\",\n",
    "            )\n",
    "        else:\n",
    "            ax.scatter(\n",
    "                Rhp * np.cos(theta),\n",
    "                Rhp * np.sin(theta),\n",
    "                marker=\"s\",\n",
    "                color=\"magenta\",\n",
    "                s=200,\n",
    "                label=\"_nolegend_\",\n",
    "            )\n",
    "    ax.legend(loc=\"lower left\", fontsize=9, frameon=False)"
   ]
  },
  {
   "cell_type": "markdown",
   "id": "6993302c-b785-4593-93cb-2efeba5750ab",
   "metadata": {},
   "source": [
    "## Prepare, plot and save"
   ]
  },
  {
   "cell_type": "code",
   "execution_count": null,
   "id": "45a71749-20b3-4328-a783-35d7cdd3b431",
   "metadata": {},
   "outputs": [],
   "source": [
    "os.makedirs(\"./plots\", exist_ok=True)"
   ]
  },
  {
   "cell_type": "code",
   "execution_count": null,
   "id": "d3e2a502-0c75-4dc3-bc97-f9e7d5692e16",
   "metadata": {},
   "outputs": [],
   "source": [
    "%matplotlib inline\n",
    "figure_name = \"M1M3 actuators and hardpoints layout\"\n",
    "fig, ax = plt.subplots(num=figure_name, figsize=(8, 8))\n",
    "\n",
    "ax = force_actuators_layout(ax, m1m3_tables.FATable)\n",
    "\n",
    "fig.suptitle(figure_name)\n",
    "fig.tight_layout()\n",
    "\n",
    "filename = f\"./plots/{figure_name.lower().replace(' ', '_')}.png\"\n",
    "print(f\"Saving into file: {filename}\")\n",
    "fig.savefig(filename)\n",
    "plt.show()"
   ]
  },
  {
   "cell_type": "code",
   "execution_count": null,
   "id": "48f20525-5f49-4138-a1d2-38f42d10ff32",
   "metadata": {},
   "outputs": [],
   "source": []
  }
 ],
 "metadata": {
  "kernelspec": {
   "display_name": "LSST",
   "language": "python",
   "name": "lsst"
  },
  "language_info": {
   "codemirror_mode": {
    "name": "ipython",
    "version": 3
   },
   "file_extension": ".py",
   "mimetype": "text/x-python",
   "name": "python",
   "nbconvert_exporter": "python",
   "pygments_lexer": "ipython3",
   "version": "3.11.7"
  }
 },
 "nbformat": 4,
 "nbformat_minor": 5
}
